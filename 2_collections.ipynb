{
 "cells": [
  {
   "cell_type": "markdown",
   "id": "5bad2ed0-c1fb-4ead-aeea-40c391addce3",
   "metadata": {},
   "source": [
    "## 파이썬 컬렉션\n",
    "1. 컬렉션 타입 소개\n",
    "2. 리스트"
   ]
  },
  {
   "cell_type": "markdown",
   "id": "18157954-cc12-4d6a-88a6-b886947c6d6a",
   "metadata": {},
   "source": [
    "### 1. 컬렉션 타입 소개\n",
    "+ Immutable Sequence 유형: Tuples, String\n",
    "+ Mutable Sequence 유형: Lists, Sets"
   ]
  },
  {
   "cell_type": "code",
   "execution_count": 1,
   "id": "446711b8-5f5a-4d5d-9e30-86bafd61292d",
   "metadata": {},
   "outputs": [],
   "source": [
    "# Tuple은 (value 1, value 2, ..., value n)와 같은 형식으로 선언\n",
    "coordinate = (3, 4)"
   ]
  },
  {
   "cell_type": "code",
   "execution_count": 3,
   "id": "cbfceace-5eeb-40cc-8977-00644bde67c7",
   "metadata": {},
   "outputs": [
    {
     "data": {
      "text/plain": [
       "4"
      ]
     },
     "execution_count": 3,
     "metadata": {},
     "output_type": "execute_result"
    }
   ],
   "source": [
    "coordinate[1]"
   ]
  },
  {
   "cell_type": "code",
   "execution_count": null,
   "id": "df319558-8755-4e84-9788-5c5d740d55cb",
   "metadata": {},
   "outputs": [],
   "source": [
    "# Tuple은 값 변경이 불가능하다(immutable).\n"
   ]
  },
  {
   "cell_type": "code",
   "execution_count": 4,
   "id": "69521a5e-1e45-4622-9b8e-f1979faa1071",
   "metadata": {},
   "outputs": [
    {
     "ename": "TypeError",
     "evalue": "'tuple' object does not support item assignment",
     "output_type": "error",
     "traceback": [
      "\u001b[1;31m---------------------------------------------------------------------------\u001b[0m",
      "\u001b[1;31mTypeError\u001b[0m                                 Traceback (most recent call last)",
      "\u001b[1;32m~\\AppData\\Local\\Temp\\ipykernel_9540\\1091014105.py\u001b[0m in \u001b[0;36m<module>\u001b[1;34m\u001b[0m\n\u001b[1;32m----> 1\u001b[1;33m \u001b[0mcoordinate\u001b[0m\u001b[1;33m[\u001b[0m\u001b[1;36m0\u001b[0m\u001b[1;33m]\u001b[0m \u001b[1;33m=\u001b[0m \u001b[1;36m8\u001b[0m\u001b[1;33m\u001b[0m\u001b[1;33m\u001b[0m\u001b[0m\n\u001b[0m",
      "\u001b[1;31mTypeError\u001b[0m: 'tuple' object does not support item assignment"
     ]
    }
   ],
   "source": [
    "coordinate[0] = 8"
   ]
  },
  {
   "cell_type": "code",
   "execution_count": 5,
   "id": "bc4325fd-5161-4e46-8adb-d0dbfcd2f320",
   "metadata": {},
   "outputs": [
    {
     "name": "stdout",
     "output_type": "stream",
     "text": [
      "Taehun Kim\n"
     ]
    }
   ],
   "source": [
    "# String 선언 방식: \"문자열 내용\" 또는 '문자열 내용'\n",
    "name = \"Taehun Kim\"\n",
    "print (name)"
   ]
  },
  {
   "cell_type": "code",
   "execution_count": 6,
   "id": "d4fc6ee4-48ed-4460-911e-0d734fec0b19",
   "metadata": {},
   "outputs": [
    {
     "ename": "TypeError",
     "evalue": "'str' object does not support item assignment",
     "output_type": "error",
     "traceback": [
      "\u001b[1;31m---------------------------------------------------------------------------\u001b[0m",
      "\u001b[1;31mTypeError\u001b[0m                                 Traceback (most recent call last)",
      "\u001b[1;32m~\\AppData\\Local\\Temp\\ipykernel_9540\\3641913706.py\u001b[0m in \u001b[0;36m<module>\u001b[1;34m\u001b[0m\n\u001b[0;32m      1\u001b[0m \u001b[1;31m# String도 역시 immutable\u001b[0m\u001b[1;33m\u001b[0m\u001b[1;33m\u001b[0m\u001b[0m\n\u001b[1;32m----> 2\u001b[1;33m \u001b[0mname\u001b[0m\u001b[1;33m[\u001b[0m\u001b[1;36m7\u001b[0m\u001b[1;33m:\u001b[0m\u001b[1;33m]\u001b[0m \u001b[1;33m=\u001b[0m \u001b[1;34m\"Park\"\u001b[0m\u001b[1;33m\u001b[0m\u001b[1;33m\u001b[0m\u001b[0m\n\u001b[0m",
      "\u001b[1;31mTypeError\u001b[0m: 'str' object does not support item assignment"
     ]
    }
   ],
   "source": [
    "# String도 역시 immutable\n",
    "name[7:] = \"Park\""
   ]
  },
  {
   "cell_type": "code",
   "execution_count": 13,
   "id": "76796d3d-edc0-46f3-b4e5-a3f8374da617",
   "metadata": {},
   "outputs": [
    {
     "name": "stdout",
     "output_type": "stream",
     "text": [
      "['Taehun Kim', 23, 'Hanshin University', True]\n"
     ]
    }
   ],
   "source": [
    "# List 선언 방식: [value 1, value 2, ..., value n]\n",
    "my_info_lst = [\"Taehun Kim\", 23, \"Hanshin University\", True]\n",
    "print(my_info_lst)"
   ]
  },
  {
   "cell_type": "code",
   "execution_count": 14,
   "id": "ac4d3078-15d6-4452-b2d8-b229eae86320",
   "metadata": {},
   "outputs": [
    {
     "data": {
      "text/plain": [
       "['Taehun Kim', 24, 'Hanshin University', 'Suwon-Si']"
      ]
     },
     "execution_count": 14,
     "metadata": {},
     "output_type": "execute_result"
    }
   ],
   "source": [
    "# List는 값 변경(추가, 삭제, 수정)이 가능하다.\n",
    "my_info_lst[1] = 24\n",
    "my_info_lst.append('Suwon-Si')\n",
    "my_info_lst.remove(True)\n",
    "my_info_lst"
   ]
  },
  {
   "cell_type": "code",
   "execution_count": 17,
   "id": "ab821b15-b771-4193-b60f-65c72a11ceb2",
   "metadata": {},
   "outputs": [
    {
     "name": "stdout",
     "output_type": "stream",
     "text": [
      "{24, 'Hanshin University', 'Suwon-Si', 'Taehun Kim'}\n"
     ]
    }
   ],
   "source": [
    "# Set 선언 방식: set(List 객체)\n",
    "# 값을 추가할 때 중복된 값은 무시하게 됨\n",
    "my_info_set = set(my_info_lst)\n",
    "my_info_set.add(\"Taehun Kim\")\n",
    "print(my_info_set)"
   ]
  },
  {
   "cell_type": "code",
   "execution_count": 18,
   "id": "dcfb78b8-3f58-479f-82e5-366b3eca6bb7",
   "metadata": {},
   "outputs": [
    {
     "name": "stdout",
     "output_type": "stream",
     "text": [
      "{'name': 'Hanshin University', 'establishment_year': 1940, 'public|private': 'private'}\n"
     ]
    }
   ],
   "source": [
    "# Dictionary 선언 방식: {'key 1':'value 1', ..., 'key n': 'value n'}\n",
    "hsu_dict = {\n",
    "    'name' : 'Hanshin University',\n",
    "    'establishment_year' : 1940,\n",
    "    'public|private' : 'private'\n",
    "}\n",
    "print(hsu_dict)"
   ]
  },
  {
   "cell_type": "code",
   "execution_count": 19,
   "id": "924c20ed-4f2a-465b-ad53-e5721e114315",
   "metadata": {},
   "outputs": [
    {
     "data": {
      "text/plain": [
       "{'name': 'Hanshin University',\n",
       " 'establishment_year': 1940,\n",
       " 'public|private': 'private',\n",
       " 'num_of_enrolled_students': 7588}"
      ]
     },
     "execution_count": 19,
     "metadata": {},
     "output_type": "execute_result"
    }
   ],
   "source": [
    "# Dictionary 값 추가\n",
    "hsu_dict['num_of_enrolled_students'] = 7588\n",
    "hsu_dict"
   ]
  },
  {
   "cell_type": "markdown",
   "id": "b82f3cdc-4ce2-4b53-a8ec-1ddb761be541",
   "metadata": {},
   "source": [
    "### 2. 리스트"
   ]
  },
  {
   "cell_type": "code",
   "execution_count": 20,
   "id": "8e747fd1-98a0-41a8-bb95-f955a72b8b4c",
   "metadata": {},
   "outputs": [
    {
     "name": "stdout",
     "output_type": "stream",
     "text": [
      "[2, 3, 5, 7, 11, 13, 17, 19, 23]\n"
     ]
    }
   ],
   "source": [
    "# 리스트 선언\n",
    "primes = [2,3,5,7,11,13,17,19,23]\n",
    "print(primes)"
   ]
  },
  {
   "cell_type": "code",
   "execution_count": 21,
   "id": "97ea7637-4aa7-4c8c-a97b-3ba96779327b",
   "metadata": {},
   "outputs": [
    {
     "name": "stdout",
     "output_type": "stream",
     "text": [
      "[]\n"
     ]
    }
   ],
   "source": [
    "empty_lst = []\n",
    "print(empty_lst)"
   ]
  },
  {
   "cell_type": "code",
   "execution_count": 22,
   "id": "584338d4-4a25-4606-9e96-b23c577373a3",
   "metadata": {},
   "outputs": [
    {
     "name": "stdout",
     "output_type": "stream",
     "text": [
      "['Jenny', 1, 2, 1.4, True]\n"
     ]
    }
   ],
   "source": [
    "# 다양한 유형의 데이터 저장\n",
    "mixed = ['Jenny', 1, 2, 1.4, True]\n",
    "print(mixed)"
   ]
  },
  {
   "cell_type": "code",
   "execution_count": 23,
   "id": "ae351c8a-6a93-4bbb-ba50-132f05d4e307",
   "metadata": {},
   "outputs": [
    {
     "name": "stdout",
     "output_type": "stream",
     "text": [
      "[['a', 1], ['b', 2]]\n"
     ]
    }
   ],
   "source": [
    "list_of_list = [['a', 1], ['b', 2]]\n",
    "print(list_of_list)"
   ]
  },
  {
   "cell_type": "code",
   "execution_count": 24,
   "id": "fe938eff-86ba-41bd-976d-e478eac88dc1",
   "metadata": {},
   "outputs": [
    {
     "name": "stdout",
     "output_type": "stream",
     "text": [
      "Roger\n",
      "Rafael\n",
      "Andy\n",
      "Novak\n"
     ]
    }
   ],
   "source": [
    "# Zero-indexing\n",
    "names = ['Roger', 'Rafael', 'Andy', 'Novak']\n",
    "print(names[0])\n",
    "print(names[1])\n",
    "print(names[2])\n",
    "print(names[3])"
   ]
  },
  {
   "cell_type": "code",
   "execution_count": 25,
   "id": "0d6be9bf-af82-4a4c-bdc0-2474ffc6d960",
   "metadata": {},
   "outputs": [
    {
     "data": {
      "text/plain": [
       "'Andy'"
      ]
     },
     "execution_count": 25,
     "metadata": {},
     "output_type": "execute_result"
    }
   ],
   "source": [
    "# Negative indexing\n",
    "names[-2]"
   ]
  },
  {
   "cell_type": "code",
   "execution_count": 27,
   "id": "a53fff52-35b9-471a-8f1d-dab4175daca3",
   "metadata": {},
   "outputs": [],
   "source": [
    "# 리스트 슬라이싱\n",
    "hsu_buildings = ['만우관', '장공관', '필헌관', '소통관', '송암관', '늦봄관', '장준하통일관']\n",
    "building_slice = hsu_buildings[1:4]"
   ]
  },
  {
   "cell_type": "code",
   "execution_count": 28,
   "id": "53eaee57-4f4b-4c6a-8baa-c1f3936a9380",
   "metadata": {},
   "outputs": [
    {
     "data": {
      "text/plain": [
       "['장공관', '필헌관', '생활관']"
      ]
     },
     "execution_count": 28,
     "metadata": {},
     "output_type": "execute_result"
    }
   ],
   "source": [
    "building_slice[2] = '생활관'\n",
    "building_slice"
   ]
  },
  {
   "cell_type": "code",
   "execution_count": 36,
   "id": "4af9c923-7b9d-4418-828e-b2b59db0fd02",
   "metadata": {},
   "outputs": [
    {
     "name": "stdout",
     "output_type": "stream",
     "text": [
      "[['해우리', '한식', '해우라면'], ['화락', '일식', '화락초밥'], ['찌개동아리', '한식', '된장찌개'], ['몽상', '양식', '매운크림리조또']]\n"
     ]
    }
   ],
   "source": [
    "# 다차원 리스트\n",
    "restaurants = [['해우리', '한식', '해우라면'], ['화락', '일식', '화락초밥'], \n",
    "               ['찌개동아리', '한식', '제육전골'], ['몽상', '양식', '매운크림리조또']]\n",
    "restaurants[2][2] = '된장찌개'\n",
    "print(restaurants)"
   ]
  },
  {
   "cell_type": "code",
   "execution_count": 37,
   "id": "65a7dfca-1e1f-4308-9694-7f55497e9dec",
   "metadata": {},
   "outputs": [
    {
     "data": {
      "text/plain": [
       "['cake', 'cookie', 'bread', 'biscuit', 'tart']"
      ]
     },
     "execution_count": 37,
     "metadata": {},
     "output_type": "execute_result"
    }
   ],
   "source": [
    "# 리스트 병합하기\n",
    "items_one = ['cake', 'cookie', 'bread']\n",
    "items_two = ['biscuit', 'tart']\n",
    "total_items = items_one + items_two\n",
    "total_items"
   ]
  },
  {
   "cell_type": "code",
   "execution_count": null,
   "id": "db4b35fa-d7df-4a8f-b7df-0b4b5ca2008f",
   "metadata": {},
   "outputs": [],
   "source": [
    "# 리스트에서 제공하는 메소드들\n",
    "\n",
    "# len()\n",
    "knapsack = [2, 4, 3, 7, 10]\n",
    "size = len(knapsack)\n",
    "print(size)\n",
    "\n",
    "# append()\n",
    "orders = ['daisies', 'periwinkle']\n",
    "orders.append('tulips')\n",
    "\n",
    "print(orders)\n",
    "\n",
    "# insert()\n",
    "store_line = ['Karla', 'Maxium', 'Martin', 'Isabella']\n",
    "store_line.insert(2, 'Vikor')\n",
    "\n",
    "print(store_line)\n",
    "\n",
    "# sort()\n",
    "\n",
    "numbers = [4, 2, 1, 3]\n",
    "numbers.sort()\n",
    "print(numbers)\n",
    "\n",
    "hsu_buildings = ['만우관', '장공관', '필헌관', '소통관', '송암관', '늦봄관', '장준하통일관']\n",
    "hsu_buildings.sort()\n",
    "\n",
    "print(hsu_buildings)"
   ]
  },
  {
   "cell_type": "code",
   "execution_count": 1,
   "id": "2842441f-0f36-4e10-8bad-45298c601803",
   "metadata": {},
   "outputs": [
    {
     "data": {
      "text/plain": [
       "['손흥민', '이강인', '김민재', '황희찬']"
      ]
     },
     "execution_count": 1,
     "metadata": {},
     "output_type": "execute_result"
    }
   ],
   "source": [
    "players = ['손흥민', '이강인', '김민재']\n",
    "players.append('황희찬')\n",
    "players"
   ]
  },
  {
   "cell_type": "code",
   "execution_count": 2,
   "id": "75e24299-7a77-4d18-85c4-d32ddd79ec07",
   "metadata": {},
   "outputs": [
    {
     "data": {
      "text/plain": [
       "['손흥민', '이강인', '정우영', '김민재', '황희찬']"
      ]
     },
     "execution_count": 2,
     "metadata": {},
     "output_type": "execute_result"
    }
   ],
   "source": [
    "players.insert(2,'정우영')\n",
    "players"
   ]
  },
  {
   "cell_type": "code",
   "execution_count": 3,
   "id": "4bdca21b-9963-40c8-beb1-a24e0a1110aa",
   "metadata": {},
   "outputs": [
    {
     "data": {
      "text/plain": [
       "'정우영'"
      ]
     },
     "execution_count": 3,
     "metadata": {},
     "output_type": "execute_result"
    }
   ],
   "source": [
    "players.pop(2)"
   ]
  },
  {
   "cell_type": "code",
   "execution_count": 4,
   "id": "4ec41c8f-6b4c-4fec-8804-83f1e9f26638",
   "metadata": {},
   "outputs": [
    {
     "data": {
      "text/plain": [
       "['손흥민', '이강인', '김민재', '황희찬']"
      ]
     },
     "execution_count": 4,
     "metadata": {},
     "output_type": "execute_result"
    }
   ],
   "source": [
    "players"
   ]
  },
  {
   "cell_type": "code",
   "execution_count": 5,
   "id": "dd39d38e-67e4-4613-88ba-3e9bb73848f0",
   "metadata": {},
   "outputs": [
    {
     "data": {
      "text/plain": [
       "['손흥민', '이강인', '김민재']"
      ]
     },
     "execution_count": 5,
     "metadata": {},
     "output_type": "execute_result"
    }
   ],
   "source": [
    "#input을 넣지 않으면 가장 마지막값을 제거\n",
    "players.pop()\n",
    "players"
   ]
  },
  {
   "cell_type": "code",
   "execution_count": 6,
   "id": "55290dc7-1e55-4ffc-ac68-91e0598c7b61",
   "metadata": {},
   "outputs": [],
   "source": [
    "players.remove('이강인')"
   ]
  },
  {
   "cell_type": "code",
   "execution_count": 7,
   "id": "0bcf13f4-c556-43e7-a3d1-8d0406adc1a1",
   "metadata": {},
   "outputs": [
    {
     "data": {
      "text/plain": [
       "['손흥민', '김민재']"
      ]
     },
     "execution_count": 7,
     "metadata": {},
     "output_type": "execute_result"
    }
   ],
   "source": [
    "players"
   ]
  },
  {
   "cell_type": "code",
   "execution_count": 12,
   "id": "67f832c3-72dd-4196-bc41-8b48c8cdfd5f",
   "metadata": {},
   "outputs": [
    {
     "name": "stdout",
     "output_type": "stream",
     "text": [
      "[1, 2, 3, 4]\n"
     ]
    }
   ],
   "source": [
    "# sort() : 정렬되지 않은 리스트를 정렬시켜줌\n",
    "\n",
    "numbers = [4, 2, 1, 3]\n",
    "numbers.sort()\n",
    "print(numbers)"
   ]
  },
  {
   "cell_type": "code",
   "execution_count": 13,
   "id": "e773eb08-c058-4405-9e61-ba457e34e102",
   "metadata": {},
   "outputs": [
    {
     "name": "stdout",
     "output_type": "stream",
     "text": [
      "['늦봄관', '만우관', '소통관', '송암관', '장공관', '장준하통일관', '필헌관']\n"
     ]
    }
   ],
   "source": [
    "hsu_buildings = ['만우관', '장공관', '필헌관', '소통관', '송암관', '늦봄관', '장준하통일관']\n",
    "hsu_buildings.sort()\n",
    "print(hsu_buildings)"
   ]
  },
  {
   "cell_type": "code",
   "execution_count": 14,
   "id": "9286ff30-6994-4cd9-a351-6d162f5b2d81",
   "metadata": {},
   "outputs": [],
   "source": [
    "numbers = [4, 2, 1, 3]"
   ]
  },
  {
   "cell_type": "code",
   "execution_count": 15,
   "id": "5c6e1a1d-b0ae-401f-91df-f713c8c16fa6",
   "metadata": {},
   "outputs": [
    {
     "name": "stdout",
     "output_type": "stream",
     "text": [
      "[4, 2, 1, 3]\n",
      "[1, 2, 3, 4]\n"
     ]
    }
   ],
   "source": [
    "sorted_numbers = sorted(numbers)\n",
    "print(numbers)\n",
    "print(sorted_numbers)"
   ]
  }
 ],
 "metadata": {
  "kernelspec": {
   "display_name": "Python 3 (ipykernel)",
   "language": "python",
   "name": "python3"
  },
  "language_info": {
   "codemirror_mode": {
    "name": "ipython",
    "version": 3
   },
   "file_extension": ".py",
   "mimetype": "text/x-python",
   "name": "python",
   "nbconvert_exporter": "python",
   "pygments_lexer": "ipython3",
   "version": "3.9.13"
  }
 },
 "nbformat": 4,
 "nbformat_minor": 5
}
