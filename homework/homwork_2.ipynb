{
 "cells": [
  {
   "cell_type": "markdown",
   "id": "a7fc54c9-316f-454a-b1a0-295584fe4dcd",
   "metadata": {},
   "source": [
    "# 과제2: Gradebook"
   ]
  },
  {
   "cell_type": "markdown",
   "id": "58ee0405-7370-431e-b47c-695b9f4ced53",
   "metadata": {},
   "source": [
    "You are a student and you are trying to organize your subjects and grades using Python. Let’s explore what we’ve learned about lists to organize your subjects and scores."
   ]
  },
  {
   "cell_type": "markdown",
   "id": "9f6c5d80-1945-4ac5-813a-addbc30bbc85",
   "metadata": {},
   "source": [
    "## Create Some Lists:"
   ]
  },
  {
   "cell_type": "markdown",
   "id": "ee7030c6-62b2-45b9-b81f-e6e6cbb04a39",
   "metadata": {},
   "source": [
    "1. Create a list called ```subjects``` and fill it with the classes you are taking:\n",
    "\n",
    "* ```\"physics\"```\n",
    "* ```\"calculus\"```\n",
    "* ```\"poetry\"```\n",
    "* ```\"history\"```"
   ]
  },
  {
   "cell_type": "code",
   "execution_count": 1,
   "id": "4c94e484-7d23-4d06-b91e-6784de76d8c0",
   "metadata": {},
   "outputs": [
    {
     "data": {
      "text/plain": [
       "['physics', 'calculus', 'poetry', 'history']"
      ]
     },
     "execution_count": 1,
     "metadata": {},
     "output_type": "execute_result"
    }
   ],
   "source": [
    "subjects = [\"physics\", \"calculus\", \"poetry\", \"history\"]\n",
    "subjects"
   ]
  },
  {
   "cell_type": "markdown",
   "id": "6f744b22-16dd-4eac-88c7-59c497c7de91",
   "metadata": {},
   "source": [
    "2. Create a list called ```grades``` and fill it with your scores:\n",
    "\n",
    "* ```98```\n",
    "* ```97```\n",
    "* ```85```\n",
    "* ```88```"
   ]
  },
  {
   "cell_type": "code",
   "execution_count": 2,
   "id": "76b20b09-d793-4c71-a698-1cebfe84c021",
   "metadata": {},
   "outputs": [
    {
     "data": {
      "text/plain": [
       "[98, 97, 85, 88]"
      ]
     },
     "execution_count": 2,
     "metadata": {},
     "output_type": "execute_result"
    }
   ],
   "source": [
    "grades = [98, 97, 85, 88]\n",
    "grades"
   ]
  },
  {
   "cell_type": "markdown",
   "id": "91b53d1e-cb35-4a4b-b6ef-24fbb54d2cc0",
   "metadata": {},
   "source": [
    "3. Manually (without any methods) create a two-dimensional list to combine ```subjects``` and ```grades```.\n",
    "Use the table below as a reference to associated values. \n",
    "Assign the value into a variable called ```gradebook```.\n",
    "\n",
    "|Name|Test Score|\n",
    "|------|---|\n",
    "|```\"physics\"```|```98```|\n",
    "|```\"calculus\"```|```97```|\n",
    "|```\"poetry\"```|```85```|\n",
    "|```\"history\"```|```88```|"
   ]
  },
  {
   "cell_type": "code",
   "execution_count": 3,
   "id": "20d1a8a5-c8e6-4af8-ac1e-03828e96f527",
   "metadata": {},
   "outputs": [],
   "source": [
    "gradebook = [[\"physics\", 98], [\"calculus\", 97], [\"poetry\", 85], [\"history\", 88]]"
   ]
  },
  {
   "cell_type": "markdown",
   "id": "928c2ee1-4d4d-4155-88c0-31b43b0314c0",
   "metadata": {},
   "source": [
    "4. Print ```gradebook```."
   ]
  },
  {
   "cell_type": "code",
   "execution_count": 4,
   "id": "679e48cd-6c59-4cf0-884b-ece7ba3f392c",
   "metadata": {},
   "outputs": [
    {
     "data": {
      "text/plain": [
       "[['physics', 98], ['calculus', 97], ['poetry', 85], ['history', 88]]"
      ]
     },
     "execution_count": 4,
     "metadata": {},
     "output_type": "execute_result"
    }
   ],
   "source": [
    "gradebook"
   ]
  },
  {
   "cell_type": "markdown",
   "id": "d14f3a58-fa5f-457a-a342-8ee984f1cf6d",
   "metadata": {
    "tags": []
   },
   "source": [
    "### Expected Output:"
   ]
  },
  {
   "cell_type": "markdown",
   "id": "947de96e-01e0-4679-8066-51732f653c36",
   "metadata": {},
   "source": [
    "```\n",
    "[['physics', 98], ['calculus', 97], ['poetry', 85], ['history', 88]]\n",
    "```\n",
    "\n",
    "Does it look how you expected it would?"
   ]
  },
  {
   "cell_type": "markdown",
   "id": "13963a64-a32e-46c4-9520-dde26a876346",
   "metadata": {},
   "source": [
    "5. Your grade for your computer science class just came in! You got a perfect score, ```100```! \n",
    "Use the ```.append()``` method to add a list with the values of ```\"computer science\"``` and\n",
    "an associated grade value of ```100``` to our two-dimensional list of ```gradebook.```"
   ]
  },
  {
   "cell_type": "code",
   "execution_count": 5,
   "id": "3a4301e7-15f8-4e60-9860-7557a0a05f37",
   "metadata": {},
   "outputs": [],
   "source": [
    "gradebook.append([\"computer science\", 100])"
   ]
  },
  {
   "cell_type": "markdown",
   "id": "09a6ad1c-e3a0-4e18-8b4e-49e17ba49d1e",
   "metadata": {},
   "source": [
    "6. Your grade for ```\"visual arts\"``` just came in! You got a 93!\n",
    "Use ```append``` to add ```[\"visual arts\", 93]``` to ```gradebook```."
   ]
  },
  {
   "cell_type": "code",
   "execution_count": 6,
   "id": "e0c3bebc-c119-4167-9184-c16472fe2550",
   "metadata": {},
   "outputs": [],
   "source": [
    "gradebook.append([\"visual arts\", 93])"
   ]
  },
  {
   "cell_type": "markdown",
   "id": "3176ffb7-2f11-44a6-a121-fbdad7add093",
   "metadata": {},
   "source": [
    "### Expected Output:\n",
    "```\n",
    "[['physics', 98], ['calculus', 97], ['poetry', 85], ['history', 88], ['computer science', 100], ['visual arts', 93]]\n",
    "```"
   ]
  },
  {
   "cell_type": "code",
   "execution_count": 7,
   "id": "0378d2ac-e0d2-4214-aa76-4274b610a4b8",
   "metadata": {},
   "outputs": [
    {
     "data": {
      "text/plain": [
       "[['physics', 98],\n",
       " ['calculus', 97],\n",
       " ['poetry', 85],\n",
       " ['history', 88],\n",
       " ['computer science', 100],\n",
       " ['visual arts', 93]]"
      ]
     },
     "execution_count": 7,
     "metadata": {},
     "output_type": "execute_result"
    }
   ],
   "source": [
    "gradebook"
   ]
  },
  {
   "cell_type": "markdown",
   "id": "967980bb-9edb-42a7-bd20-7d73a2766f81",
   "metadata": {},
   "source": [
    "## Modify The Gradebook:"
   ]
  },
  {
   "cell_type": "markdown",
   "id": "01ac26b4-d8b2-40fa-8e14-846be57f180c",
   "metadata": {},
   "source": [
    "7. Our instructor just told us they made a mistake grading and are rewarding an extra 5 points for our visual arts class.\n",
    "Access the index of the grade for your visual arts class and modify it to be 5 points greater."
   ]
  },
  {
   "cell_type": "code",
   "execution_count": 8,
   "id": "1c10d393-c435-46f7-9289-96a52f038ea5",
   "metadata": {},
   "outputs": [],
   "source": [
    "gradebook[5] = [\"visual arts\", 98]"
   ]
  },
  {
   "cell_type": "markdown",
   "id": "8475b3d6-d2dd-47b9-95c3-617a04018cbb",
   "metadata": {},
   "source": [
    "8. You decided to switch from a numerical grade value to a Pass/Fail option for your poetry class.\n",
    "Find the grade value in your ```gradebook``` for your poetry class and use the ```.remove()``` method to delete it."
   ]
  },
  {
   "cell_type": "code",
   "execution_count": 9,
   "id": "a41126f1-a93f-46ac-8c74-69555fe698a6",
   "metadata": {},
   "outputs": [],
   "source": [
    "gradebook[2].remove(85)"
   ]
  },
  {
   "cell_type": "markdown",
   "id": "fe2ca263-d885-42c9-bf87-ff50a38e1f0c",
   "metadata": {},
   "source": [
    "9. Use the ```.append()``` method to then add a new ```\"Pass\"``` value to the sublist where your poetry class is located"
   ]
  },
  {
   "cell_type": "code",
   "execution_count": 10,
   "id": "5bc28bf1-2e7c-4727-bc42-8c92c939c7af",
   "metadata": {},
   "outputs": [],
   "source": [
    "gradebook[2].append(\"Pass\")"
   ]
  },
  {
   "cell_type": "markdown",
   "id": "9cdb501d-f426-4e5e-8bcf-1ce5098245d5",
   "metadata": {},
   "source": [
    "### Expected Output:"
   ]
  },
  {
   "cell_type": "markdown",
   "id": "e1b20776-d256-469c-bd19-a4b0dcc33215",
   "metadata": {},
   "source": [
    "```\n",
    "[['physics', 98], ['calculus', 97], ['poetry', 'Pass'], ['history', 88], ['computer science', 100], ['visual arts', 98]]\n",
    "```"
   ]
  },
  {
   "cell_type": "code",
   "execution_count": 11,
   "id": "691d7846-cfe2-4d77-b8a5-f7fe9b3337f4",
   "metadata": {},
   "outputs": [
    {
     "data": {
      "text/plain": [
       "[['physics', 98],\n",
       " ['calculus', 97],\n",
       " ['poetry', 'Pass'],\n",
       " ['history', 88],\n",
       " ['computer science', 100],\n",
       " ['visual arts', 98]]"
      ]
     },
     "execution_count": 11,
     "metadata": {},
     "output_type": "execute_result"
    }
   ],
   "source": [
    "gradebook"
   ]
  },
  {
   "cell_type": "markdown",
   "id": "c810f1ae-6b34-4d5a-ba1e-3b40e390e0a5",
   "metadata": {},
   "source": [
    "## One Big Gradebook!"
   ]
  },
  {
   "cell_type": "markdown",
   "id": "0185bbb0-70f9-443d-bf75-1c926abb0c99",
   "metadata": {},
   "source": [
    "10. You also have your grades from last semester, stored in ```last_semester_gradebook```.\n",
    "```\n",
    "last_semester_gradebook = [[\"politics\", 80], [\"latin\", 96], [\"dance\", 97], [\"architecture\", 65]]\n",
    "```\n",
    "Create a new variable ```full_gradebook``` that combines both ```last_semester_gradebook``` and ```gradebook``` using ```+``` to have one complete grade book.\n",
    "Print ```full_gradebook``` to see our completed list."
   ]
  },
  {
   "cell_type": "code",
   "execution_count": 12,
   "id": "76968cc1-0ba4-499f-9eec-e174b22ed36b",
   "metadata": {},
   "outputs": [],
   "source": [
    "last_semester_gradebook = [[\"politics\", 80], [\"latin\", 96], [\"dance\", 97], [\"architecture\", 65]]"
   ]
  },
  {
   "cell_type": "code",
   "execution_count": 13,
   "id": "29dbcd3a-9089-4c2b-bc67-80ba6dcde87a",
   "metadata": {},
   "outputs": [],
   "source": [
    "full_gradebook = last_semester_gradebook + gradebook"
   ]
  },
  {
   "cell_type": "markdown",
   "id": "b0e73289-6617-4ae7-ad94-2658da4c5a2d",
   "metadata": {},
   "source": [
    "### Expected Output:"
   ]
  },
  {
   "cell_type": "markdown",
   "id": "1a08a0e5-b70c-4a4d-8cbc-30383192fbc5",
   "metadata": {},
   "source": [
    "```\n",
    "[['politics', 80], ['latin', 96], ['dance', 97], ['architecture', 65], ['physics', 98], ['calculus', 97], \n",
    "['poetry', 'Pass'], ['history', 88], ['computer science', 100], ['visual arts', 98]]\n",
    "```"
   ]
  },
  {
   "cell_type": "code",
   "execution_count": 14,
   "id": "99f3ddc3-cd97-4d54-86ae-dfefaf5a03e4",
   "metadata": {},
   "outputs": [
    {
     "data": {
      "text/plain": [
       "[['politics', 80],\n",
       " ['latin', 96],\n",
       " ['dance', 97],\n",
       " ['architecture', 65],\n",
       " ['physics', 98],\n",
       " ['calculus', 97],\n",
       " ['poetry', 'Pass'],\n",
       " ['history', 88],\n",
       " ['computer science', 100],\n",
       " ['visual arts', 98]]"
      ]
     },
     "execution_count": 14,
     "metadata": {},
     "output_type": "execute_result"
    }
   ],
   "source": [
    "full_gradebook"
   ]
  }
 ],
 "metadata": {
  "kernelspec": {
   "display_name": "Python 3 (ipykernel)",
   "language": "python",
   "name": "python3"
  },
  "language_info": {
   "codemirror_mode": {
    "name": "ipython",
    "version": 3
   },
   "file_extension": ".py",
   "mimetype": "text/x-python",
   "name": "python",
   "nbconvert_exporter": "python",
   "pygments_lexer": "ipython3",
   "version": "3.9.13"
  }
 },
 "nbformat": 4,
 "nbformat_minor": 5
}
