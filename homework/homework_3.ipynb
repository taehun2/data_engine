{
 "cells": [
  {
   "cell_type": "markdown",
   "id": "133da488-033a-46e7-aa65-30451548e403",
   "metadata": {},
   "source": [
    "# 과제 3: Carly's Clippers"
   ]
  },
  {
   "cell_type": "markdown",
   "id": "4537d313-25ab-4773-acb0-787cf9a25779",
   "metadata": {},
   "source": [
    "You are the Data Analyst at Carly’s Clippers, the newest hair salon on the block. \n",
    "Your job is to go through the lists of data that have been collected in the past couple of weeks. \n",
    "You will be calculating some important metrics that Carly can use to plan out the operation of the business for the rest of the month."
   ]
  },
  {
   "cell_type": "markdown",
   "id": "269b140a-c948-4a09-85c5-831f2aa71253",
   "metadata": {},
   "source": [
    "You have been provided with three lists:\n",
    "* ```hairstyles```: the names of the cuts offered at Carly’s Clippers.\n",
    "```\n",
    "hairstyles = [\"bouffant\", \"pixie\", \"dreadlocks\", \"crew\", \"bowl\", \"bob\", \"mohawk\", \"flattop\"]\n",
    "```\n",
    "* ```prices```: the price of each hairstyle in the ```hairstyles``` list.\n",
    "```\n",
    "prices = [30, 25, 40, 20, 20, 35, 50, 35]\n",
    "```\n",
    "* ```last_week```: the number of purchases for each hairstyle type in the last week.\n",
    "```\n",
    "last_week = [2, 3, 5, 8, 4, 4, 6, 2]\n",
    "```"
   ]
  },
  {
   "cell_type": "code",
   "execution_count": 1,
   "id": "781a0b4a-f348-4e79-92bd-d6afc20258bb",
   "metadata": {},
   "outputs": [
    {
     "data": {
      "text/plain": [
       "['bouffant', 'pixie', 'dreadlocks', 'crew', 'bowl', 'bob', 'mohawk', 'flattop']"
      ]
     },
     "execution_count": 1,
     "metadata": {},
     "output_type": "execute_result"
    }
   ],
   "source": [
    "hairstyles = [\"bouffant\", \"pixie\", \"dreadlocks\", \"crew\", \"bowl\", \"bob\", \"mohawk\", \"flattop\"]\n",
    "hairstyles"
   ]
  },
  {
   "cell_type": "code",
   "execution_count": 2,
   "id": "b2b633d7-117a-4fd0-8f6d-2ba35cb81896",
   "metadata": {},
   "outputs": [
    {
     "data": {
      "text/plain": [
       "[30, 25, 40, 20, 20, 35, 50, 35]"
      ]
     },
     "execution_count": 2,
     "metadata": {},
     "output_type": "execute_result"
    }
   ],
   "source": [
    "prices = [30, 25, 40, 20, 20, 35, 50, 35]\n",
    "prices"
   ]
  },
  {
   "cell_type": "code",
   "execution_count": 3,
   "id": "c086f58e-fb3b-4ca1-82fd-9e3897bc3b78",
   "metadata": {},
   "outputs": [
    {
     "data": {
      "text/plain": [
       "[2, 3, 5, 8, 4, 4, 6, 2]"
      ]
     },
     "execution_count": 3,
     "metadata": {},
     "output_type": "execute_result"
    }
   ],
   "source": [
    "last_week = [2, 3, 5, 8, 4, 4, 6, 2]\n",
    "last_week"
   ]
  },
  {
   "cell_type": "markdown",
   "id": "800a845f-73e3-4a75-ac66-bfdff0919f5b",
   "metadata": {},
   "source": [
    "Each index in ```hairstyles``` corresponds to an associated index in ```prices``` and ```last_week```."
   ]
  },
  {
   "cell_type": "markdown",
   "id": "8c0e4674-65d9-44d6-9c67-517b5a98971f",
   "metadata": {},
   "source": [
    "For example, The hairstyle ```\"bouffant\"``` has an associated price of ```30``` from the ```prices``` list, \n",
    "and was purchased ```2``` times in the last week as shown in the ```last_week``` list. \n",
    "Each of these elements are in the first index of their respective lists.\n",
    "\n",
    "Let’s get started!"
   ]
  },
  {
   "cell_type": "markdown",
   "id": "4a1838ac-09d8-4149-acc6-7b3c39ecf8d5",
   "metadata": {},
   "source": [
    "## Prices and Cuts:"
   ]
  },
  {
   "cell_type": "markdown",
   "id": "db6be8d3-eaa2-41ad-8fab-7bdd88c5e5ba",
   "metadata": {},
   "source": [
    "1. Carly wants to be able to market her low prices. We want to find out what the average price of a cut is.\n",
    "First, let’s sum up all the prices of haircuts. Create a variable ```total_price```, and set it to ```0```."
   ]
  },
  {
   "cell_type": "code",
   "execution_count": 4,
   "id": "1ddcd7d9-c5f6-4db6-9072-6751f300ea9f",
   "metadata": {},
   "outputs": [],
   "source": [
    "total_price = 0"
   ]
  },
  {
   "cell_type": "markdown",
   "id": "f3d23eb6-fc5f-45e0-96f0-01bbfd291822",
   "metadata": {},
   "source": [
    "2. Loop through the ```prices``` list and add each price to the variable ```total_price```."
   ]
  },
  {
   "cell_type": "code",
   "execution_count": 5,
   "id": "70785d7b-100b-473f-a4a8-29029dc053b0",
   "metadata": {},
   "outputs": [],
   "source": [
    "total_price = sum(prices)"
   ]
  },
  {
   "cell_type": "markdown",
   "id": "96bb5e48-d6cc-42e8-8b02-b6607e0f89da",
   "metadata": {},
   "source": [
    "3. After your loop, create a variable called ```average_price``` that is the ```total_price``` divided by the number of prices.\n",
    "You can get the number of prices by using the ```len()``` function."
   ]
  },
  {
   "cell_type": "code",
   "execution_count": 6,
   "id": "55fd23a5-e72e-4101-ab9f-051c03a34871",
   "metadata": {},
   "outputs": [],
   "source": [
    "average_price = total_price / len(prices)"
   ]
  },
  {
   "cell_type": "markdown",
   "id": "640ba91f-253a-45ad-a4d9-0554d5b3167e",
   "metadata": {},
   "source": [
    "4. Print the value of ```average_price```."
   ]
  },
  {
   "cell_type": "code",
   "execution_count": 7,
   "id": "30f07a5a-e8a9-4678-928f-a0953cf0de80",
   "metadata": {},
   "outputs": [
    {
     "data": {
      "text/plain": [
       "31.875"
      ]
     },
     "execution_count": 7,
     "metadata": {},
     "output_type": "execute_result"
    }
   ],
   "source": [
    "average_price"
   ]
  },
  {
   "cell_type": "markdown",
   "id": "35ee34d1-fe7b-4836-9441-400c9e194116",
   "metadata": {},
   "source": [
    "### Expected Output:\n",
    "```\n",
    "Average price is  31.875\n",
    "```"
   ]
  },
  {
   "cell_type": "markdown",
   "id": "a3863b9d-c97a-4c95-a40d-f324a40b97dd",
   "metadata": {},
   "source": [
    "5. That average price is more expensive than Carly thought it would be! She wants to cut all prices by 5 dollars.\n",
    "Use a list comprehension to make a list called ```new_prices```, which has each element in ```prices``` minus ```5```."
   ]
  },
  {
   "cell_type": "code",
   "execution_count": 8,
   "id": "41c82344-a06e-4226-b257-399ef2433285",
   "metadata": {},
   "outputs": [],
   "source": [
    "new_prices = [25, 20, 35, 15, 15, 30, 45, 30]"
   ]
  },
  {
   "cell_type": "markdown",
   "id": "d505360c-3afe-453f-81d4-9c346fc1b283",
   "metadata": {},
   "source": [
    "6. Print ```new_prices```."
   ]
  },
  {
   "cell_type": "code",
   "execution_count": 9,
   "id": "fea59657-1549-4dcd-9017-89361d3d3819",
   "metadata": {},
   "outputs": [
    {
     "data": {
      "text/plain": [
       "[25, 20, 35, 15, 15, 30, 45, 30]"
      ]
     },
     "execution_count": 9,
     "metadata": {},
     "output_type": "execute_result"
    }
   ],
   "source": [
    "new_prices"
   ]
  },
  {
   "cell_type": "markdown",
   "id": "b8923a1b-d407-4ec2-a151-37315523d21d",
   "metadata": {},
   "source": [
    "### Expected Output:\n",
    "```\n",
    "[25, 20, 35, 15, 15, 30, 45, 30]\n",
    "```"
   ]
  },
  {
   "cell_type": "markdown",
   "id": "f51d2d06-1129-4863-8115-a97f47893880",
   "metadata": {},
   "source": [
    "## Revenue:"
   ]
  },
  {
   "cell_type": "markdown",
   "id": "9ad7192c-6918-45c9-b329-535ff43135f3",
   "metadata": {},
   "source": [
    "7. Carly really wants to make sure that Carly’s Clippers is a profitable endeavor. She first wants to know how much revenue was brought in last week.\n",
    "Create a variable called ```total_revenue``` and set it to ```0```."
   ]
  },
  {
   "cell_type": "code",
   "execution_count": 10,
   "id": "4cefb667-6f7f-4f7c-a823-e0ce853653c6",
   "metadata": {},
   "outputs": [],
   "source": [
    "total_revenue = 0"
   ]
  },
  {
   "cell_type": "markdown",
   "id": "ee1939fd-8e1e-4c01-9989-ed786588e68c",
   "metadata": {},
   "source": [
    "8. Use a ```for``` loop to create a variable ```i``` that goes from ```0``` to ```len(hairstyles)```\n",
    "Hint: You can use ```range()``` to do this!"
   ]
  },
  {
   "cell_type": "code",
   "execution_count": 11,
   "id": "8cc10505-4a52-4043-9825-f227fcb744a4",
   "metadata": {},
   "outputs": [
    {
     "name": "stdout",
     "output_type": "stream",
     "text": [
      "0\n",
      "1\n",
      "2\n",
      "3\n",
      "4\n",
      "5\n",
      "6\n",
      "7\n"
     ]
    }
   ],
   "source": [
    "for i in range(len(hairstyles)):\n",
    "    print(i)"
   ]
  },
  {
   "cell_type": "markdown",
   "id": "93c4a614-e874-4e4b-9802-110d1f444910",
   "metadata": {},
   "source": [
    "9. Add the product of ```prices[i]``` (the price of the haircut at position ```i```) and \n",
    "```last_week[i]``` (the number of people who got the haircut at position ```i```) to ```total_revenue``` at each step"
   ]
  },
  {
   "cell_type": "code",
   "execution_count": 12,
   "id": "1e4c3c92-8f88-4feb-9bf8-dde02db51ea9",
   "metadata": {},
   "outputs": [],
   "source": [
    "for i in range(len(hairstyles)):\n",
    "    total_revenue += prices[i] * last_week[i]"
   ]
  },
  {
   "cell_type": "markdown",
   "id": "1b8000b8-8516-495f-810a-735fc5a6f460",
   "metadata": {},
   "source": [
    "10. After your loop, print the value of ```total_revenue```."
   ]
  },
  {
   "cell_type": "code",
   "execution_count": 13,
   "id": "4168333c-b022-4356-bea8-3c4c0fae1f55",
   "metadata": {},
   "outputs": [
    {
     "data": {
      "text/plain": [
       "1085"
      ]
     },
     "execution_count": 13,
     "metadata": {},
     "output_type": "execute_result"
    }
   ],
   "source": [
    "total_revenue"
   ]
  },
  {
   "cell_type": "markdown",
   "id": "bb9f5762-d880-47e4-9d80-4d897ffe6a6b",
   "metadata": {},
   "source": [
    "11. Find the average daily revenue by dividing ```total_revenue``` by 7. Call this number ```average_daily_revenue``` and print it out."
   ]
  },
  {
   "cell_type": "code",
   "execution_count": 14,
   "id": "911408a8-db2b-48a9-a03c-301a24268d48",
   "metadata": {},
   "outputs": [
    {
     "data": {
      "text/plain": [
       "155.0"
      ]
     },
     "execution_count": 14,
     "metadata": {},
     "output_type": "execute_result"
    }
   ],
   "source": [
    "average_daily_revenue = total_revenue / 7\n",
    "average_daily_revenue"
   ]
  },
  {
   "cell_type": "markdown",
   "id": "22e33463-ec7f-4b4a-ae54-14f8d67978eb",
   "metadata": {},
   "source": [
    "### Expected Output:\n",
    "```\n",
    "Average daily revenue is  155.0\n",
    "```"
   ]
  },
  {
   "cell_type": "markdown",
   "id": "eddd48a7-6be1-4b81-a3aa-4581f82ad78f",
   "metadata": {},
   "source": [
    "12. Carly thinks she can bring in more customers by advertising all of the haircuts she has that are under ```30``` dollars.\n",
    "Use a list comprehension to create a list called ```cuts_under_30``` \n",
    "that has the entry ```hairstyles[i]``` for each ```i``` for which ```new_prices[i]``` is less than ```30```.\n",
    "You can use ```range()``` in your list comprehension to make ```i``` go from ```0``` to ```len(new_prices) - 1```."
   ]
  },
  {
   "cell_type": "code",
   "execution_count": 15,
   "id": "fcc40002-2b5d-4579-b8f6-f6fa9c8150be",
   "metadata": {},
   "outputs": [],
   "source": [
    "cuts_under_30 = [hairstyles[i] for i in range(len(new_prices) -1) if new_prices[i] < 30]"
   ]
  },
  {
   "cell_type": "markdown",
   "id": "c8ad65b7-7ef6-4a71-b4bc-c37422b27387",
   "metadata": {},
   "source": [
    "13. Print ```cuts_under_30```."
   ]
  },
  {
   "cell_type": "code",
   "execution_count": 16,
   "id": "e98a6ad1-1305-42f7-a2f3-9b874c38501f",
   "metadata": {},
   "outputs": [
    {
     "data": {
      "text/plain": [
       "['bouffant', 'pixie', 'crew', 'bowl']"
      ]
     },
     "execution_count": 16,
     "metadata": {},
     "output_type": "execute_result"
    }
   ],
   "source": [
    "cuts_under_30"
   ]
  },
  {
   "cell_type": "markdown",
   "id": "b7c6a92b-1cc5-4a1a-b251-640382d84fad",
   "metadata": {},
   "source": [
    "### Expected Output:\n",
    "```\n",
    "['bouffant', 'pixie', 'crew', 'bowl']\n",
    "```"
   ]
  }
 ],
 "metadata": {
  "kernelspec": {
   "display_name": "Python 3 (ipykernel)",
   "language": "python",
   "name": "python3"
  },
  "language_info": {
   "codemirror_mode": {
    "name": "ipython",
    "version": 3
   },
   "file_extension": ".py",
   "mimetype": "text/x-python",
   "name": "python",
   "nbconvert_exporter": "python",
   "pygments_lexer": "ipython3",
   "version": "3.9.13"
  }
 },
 "nbformat": 4,
 "nbformat_minor": 5
}
