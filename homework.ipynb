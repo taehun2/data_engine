{
 "cells": [
  {
   "cell_type": "markdown",
   "id": "55d7a2a5-196b-461f-9ce6-3ffd201e30dd",
   "metadata": {
    "tags": []
   },
   "source": [
    "# 과제 1: Receipts for Lovely Loveseats"
   ]
  },
  {
   "cell_type": "markdown",
   "id": "614f6e10-c82c-493e-b7db-894a6200cdf3",
   "metadata": {},
   "source": [
    "We’ve decided to pursue the dream of small-business ownership and open up a **furniture store** called **Lovely Loveseats** for Neat Suites on Fleet Street. With our newfound knowledge of Python programming, we’re going to build a system to help speed up the process of **creating receipts for your customers**.\n",
    "\n",
    "In this project, we will be storing the names and prices of a furniture store’s catalog in variables. You will then process the total price and item list of customers, printing them to the output terminal."
   ]
  },
  {
   "cell_type": "markdown",
   "id": "1cc4197a-2411-4bc8-a2e6-d2424908bdec",
   "metadata": {
    "tags": []
   },
   "source": [
    "## Tasks"
   ]
  },
  {
   "cell_type": "markdown",
   "id": "f2e17ff5-a6e3-4d0f-9640-da22b1b701ae",
   "metadata": {},
   "source": [
    "### Adding In The Catalog"
   ]
  },
  {
   "cell_type": "markdown",
   "id": "e8acc655-a693-42f3-94ed-859839f04b5c",
   "metadata": {},
   "source": [
    "1. Let’s add in our first item, the Lovely Loveseat that is the store’s namesake. Create a variable called ```lovely_loveseat_description``` and assign to it the following string:\n",
    "\n",
    "```\n",
    "Lovely Loveseat. Tufted polyester blend on wood. 32 inches high x 40 inches wide x 30 inches deep. Red or white.\n",
    "```"
   ]
  },
  {
   "cell_type": "code",
   "execution_count": 1,
   "id": "fb11eb47-4ec3-4ee5-84dc-b209796f2a21",
   "metadata": {},
   "outputs": [],
   "source": [
    "lovely_loveseat_description = (\"Lovely Loveseat.Tufted polyester blend on wood. 32 inches high x 40 inches wide x 30 inches dee. Red or white.\")"
   ]
  },
  {
   "cell_type": "markdown",
   "id": "87159362-3b91-45ba-9198-6f4c68e6a797",
   "metadata": {},
   "source": [
    "2. Great, now let’s create a price for the loveseat. Create a variable ```lovely_loveseat_price``` and set it equal to ```254.00```."
   ]
  },
  {
   "cell_type": "code",
   "execution_count": 2,
   "id": "1ee57dbc-48c6-43a2-a011-d723300cd1e6",
   "metadata": {},
   "outputs": [],
   "source": [
    "lovely_loveseat_price = 254.00"
   ]
  },
  {
   "cell_type": "markdown",
   "id": "81faaf1a-e682-4460-8b23-4eae7f605a17",
   "metadata": {},
   "source": [
    "3. Let’s extend our inventory with another characteristic piece of furniture! Create a variable called ```stylish_settee_description``` and assign to it the following string:\n",
    "```\n",
    "Stylish Settee. Faux leather on birch. 29.50 inches high x 54.75 inches wide x 28 inches deep. Black.\n",
    "```"
   ]
  },
  {
   "cell_type": "code",
   "execution_count": 3,
   "id": "c16daf86-2dd2-4007-8797-cdd26dc33cc6",
   "metadata": {},
   "outputs": [],
   "source": [
    "stylish_settee_description = (\"Stylish Settee. Faux leather on birch. 29.50 inches high x 54.75 inches wide x 28 inches deep. Black.\")"
   ]
  },
  {
   "cell_type": "markdown",
   "id": "b2cbc873-3e47-421f-a9c0-639ac3c672e2",
   "metadata": {},
   "source": [
    "4. Now let’s set the price for our Stylish Settee. Create a variable ```stylish_settee_price``` and assign it the value of ```180.50```."
   ]
  },
  {
   "cell_type": "code",
   "execution_count": 4,
   "id": "68b9770f-5c3e-4191-9ebf-91df830c11d6",
   "metadata": {},
   "outputs": [],
   "source": [
    "stylish_settee_price = 180.50"
   ]
  },
  {
   "cell_type": "markdown",
   "id": "aa3b10bb-727f-41bc-86b7-837432cf9404",
   "metadata": {},
   "source": [
    "5. Fantastic, we just need one more item before we’re ready for business. Create a new variable called ```luxurious_lamp_description``` and assign it the following:\n",
    "\n",
    "```\n",
    "Luxurious Lamp. Glass and iron. 36 inches tall. Brown with cream shade.\n",
    "```"
   ]
  },
  {
   "cell_type": "code",
   "execution_count": 5,
   "id": "46e2b49e-9625-47d6-b206-a1d4aef0705b",
   "metadata": {},
   "outputs": [],
   "source": [
    "luxurious_lamp_description = (\"Luxurious Lamp. Glass and iron. 36 inches tall. Brown with cream shade.\")"
   ]
  },
  {
   "cell_type": "markdown",
   "id": "3bf992c1-0a8a-43b6-92a0-18a958ca9aee",
   "metadata": {},
   "source": [
    "6. Let’s set the price for this item. Create a variable called ```luxurious_lamp_price``` and set it equal to ```52.15```."
   ]
  },
  {
   "cell_type": "code",
   "execution_count": 6,
   "id": "038b6f1e-0477-4511-b89c-ab7efda8d750",
   "metadata": {},
   "outputs": [],
   "source": [
    "luxurious_lamp_price = 52.15"
   ]
  },
  {
   "cell_type": "markdown",
   "id": "1e43ac61-a753-4073-a1ce-6519a3b31a14",
   "metadata": {},
   "source": [
    "7. In order to be a business, we should also be calculating sales tax. Let’s store that in a variable as well.\n",
    "\n",
    "Define the variable ```sales_tax``` and set it equal to ```.088```. That’s 8.8%."
   ]
  },
  {
   "cell_type": "code",
   "execution_count": 7,
   "id": "1afab274-cb5c-4d69-a714-e07dabae1731",
   "metadata": {},
   "outputs": [],
   "source": [
    "sales_tax = .088"
   ]
  },
  {
   "cell_type": "markdown",
   "id": "74c9b3d1-adc2-4b37-b611-837749e3909f",
   "metadata": {},
   "source": [
    "### Our First Customer"
   ]
  },
  {
   "cell_type": "markdown",
   "id": "a6efc556-14a0-440d-9e31-e99f1f6bec77",
   "metadata": {},
   "source": [
    "8. Our first customer is making their purchase! Let’s keep a running tally of their expenses by defining a variable called ```customer_one_total```. Since they haven’t purchased anything yet, let’s set that variable equal to ```0``` for now."
   ]
  },
  {
   "cell_type": "code",
   "execution_count": 8,
   "id": "605f280e-c5df-4690-9d68-a7ef3cf7c5d6",
   "metadata": {},
   "outputs": [],
   "source": [
    "customer_one_total = 0"
   ]
  },
  {
   "cell_type": "markdown",
   "id": "c3cbbd91-7e83-49c3-b705-45f809509c22",
   "metadata": {},
   "source": [
    "9. We should also keep a list of the descriptions of things they’re purchasing. Create a variable called ```customer_one_itemization``` and set that equal to the empty string ```\"\"```. We’ll tack on the descriptions to this as they make their purchases."
   ]
  },
  {
   "cell_type": "code",
   "execution_count": 9,
   "id": "a64896dd-3a33-47b1-980b-5a341b7b5fbb",
   "metadata": {},
   "outputs": [],
   "source": [
    "customer_one_itemization = \"\""
   ]
  },
  {
   "cell_type": "markdown",
   "id": "54a78ff1-d2f6-43a4-9841-b9350677e7c4",
   "metadata": {},
   "source": [
    "10. Our customer has decided they are going to purchase our Lovely Loveseat! Add the price to ```customer_one_total```."
   ]
  },
  {
   "cell_type": "code",
   "execution_count": 10,
   "id": "4afbd9e6-a79e-44ef-9ab5-9e327320afcf",
   "metadata": {},
   "outputs": [
    {
     "name": "stdout",
     "output_type": "stream",
     "text": [
      "254.0\n"
     ]
    }
   ],
   "source": [
    "customer_one_total = lovely_loveseat_price\n",
    "print(customer_one_total)"
   ]
  },
  {
   "cell_type": "markdown",
   "id": "11b94ed5-0f74-4cb3-ac07-ff70bdd00d3b",
   "metadata": {},
   "source": [
    "11. Let’s start keeping track of the items our customer purchased. Add the description of the Lovely Loveseat to ```customer_one_itemization```."
   ]
  },
  {
   "cell_type": "code",
   "execution_count": 11,
   "id": "94ed6691-a3cc-427d-88b0-52f126271f50",
   "metadata": {},
   "outputs": [
    {
     "name": "stdout",
     "output_type": "stream",
     "text": [
      "Lovely Loveseat.Tufted polyester blend on wood. 32 inches high x 40 inches wide x 30 inches dee. Red or white.\n"
     ]
    }
   ],
   "source": [
    "customer_one_itemization = lovely_loveseat_description\n",
    "print(customer_one_itemization)"
   ]
  },
  {
   "cell_type": "markdown",
   "id": "144b7e02-9a6e-4955-bedd-ea4d71921c62",
   "metadata": {},
   "source": [
    "12. Our customer has also decided to purchase the Luxurious Lamp! Let’s add the price to the customer’s total."
   ]
  },
  {
   "cell_type": "code",
   "execution_count": 12,
   "id": "dcb053bb-aabb-48f2-a40d-9ab83b98232c",
   "metadata": {},
   "outputs": [
    {
     "name": "stdout",
     "output_type": "stream",
     "text": [
      "306.15\n"
     ]
    }
   ],
   "source": [
    "customer_one_total = lovely_loveseat_price + luxurious_lamp_price\n",
    "print(customer_one_total)"
   ]
  },
  {
   "cell_type": "markdown",
   "id": "bb8de542-e717-43f2-85ae-a4cf0b177900",
   "metadata": {},
   "source": [
    "13. Let’s keep the itemization up-to-date and add the description of the Luxurious Lamp to our itemization."
   ]
  },
  {
   "cell_type": "code",
   "execution_count": 13,
   "id": "15237cc7-5f14-4dc5-9dd7-d8c6cc9cae99",
   "metadata": {},
   "outputs": [
    {
     "name": "stdout",
     "output_type": "stream",
     "text": [
      "Lovely Loveseat.Tufted polyester blend on wood. 32 inches high x 40 inches wide x 30 inches dee. Red or white.Luxurious Lamp. Glass and iron. 36 inches tall. Brown with cream shade.\n"
     ]
    }
   ],
   "source": [
    "customer_one_itemization = lovely_loveseat_description + luxurious_lamp_description\n",
    "print(customer_one_itemization)"
   ]
  },
  {
   "cell_type": "markdown",
   "id": "783c3c7b-f4bc-44b0-a85e-0ff7ec4691ab",
   "metadata": {},
   "source": [
    "14. They’re ready to check out! Let’s begin by calculating sales tax. Create a variable called ```customer_one_tax``` and set it equal to ```customer_one_total``` times ```sales_tax```."
   ]
  },
  {
   "cell_type": "code",
   "execution_count": 14,
   "id": "016e0e0d-d0da-4082-b60f-875a3a9053fd",
   "metadata": {},
   "outputs": [
    {
     "name": "stdout",
     "output_type": "stream",
     "text": [
      "26.941199999999995\n"
     ]
    }
   ],
   "source": [
    "customer_one_tax = customer_one_total * sales_tax\n",
    "print(customer_one_tax)"
   ]
  },
  {
   "cell_type": "markdown",
   "id": "ba10eedb-f81e-483a-9024-35ae1ee27068",
   "metadata": {},
   "source": [
    "15. Add the sales tax to the customer’s total cost."
   ]
  },
  {
   "cell_type": "code",
   "execution_count": 15,
   "id": "87bc4c59-0874-468e-b6bf-f30a5cbf28bd",
   "metadata": {},
   "outputs": [
    {
     "name": "stdout",
     "output_type": "stream",
     "text": [
      "333.09119999999996\n"
     ]
    }
   ],
   "source": [
    "Customer_One_Total = customer_one_tax + customer_one_total\n",
    "print(Customer_One_Total)"
   ]
  },
  {
   "cell_type": "markdown",
   "id": "5f4e0336-c6d8-444a-b25e-b3889de53594",
   "metadata": {},
   "source": [
    "16. Let’s start printing up their receipt! Begin by printing out the heading for their itemization. Print the phrase ```\"Customer One Items:\"```."
   ]
  },
  {
   "cell_type": "markdown",
   "id": "62f9ae58-b3c3-4005-9189-cfbbd3952049",
   "metadata": {},
   "source": [
    "17. Print ```customer_one_itemization```."
   ]
  },
  {
   "cell_type": "code",
   "execution_count": 16,
   "id": "416acc1c-c240-4dda-b612-c0ebd011fbaf",
   "metadata": {},
   "outputs": [
    {
     "name": "stdout",
     "output_type": "stream",
     "text": [
      "Customer One Items:\n",
      "Lovely Loveseat.Tufted polyester blend on wood. 32 inches high x 40 inches wide x 30 inches dee. Red or white.Luxurious Lamp. Glass and iron. 36 inches tall. Brown with cream shade.\n"
     ]
    }
   ],
   "source": [
    "print(\"Customer One Items:\\n\" + customer_one_itemization)"
   ]
  },
  {
   "cell_type": "markdown",
   "id": "41ee058a-21f5-46db-99ad-a834133378ae",
   "metadata": {},
   "source": [
    "18. Now add a heading for their total cost: Print out ```\"Customer One Total:\"```"
   ]
  },
  {
   "cell_type": "code",
   "execution_count": 17,
   "id": "0fd9d40f-f01d-433d-97a7-12eb66680c78",
   "metadata": {},
   "outputs": [
    {
     "name": "stdout",
     "output_type": "stream",
     "text": [
      "Customer One Total:\n",
      "333.09119999999996\n"
     ]
    }
   ],
   "source": [
    "print(\"Customer One Total:\\n\" + str(Customer_One_Total))"
   ]
  },
  {
   "cell_type": "markdown",
   "id": "824ec6e9-79ef-40d6-803b-4d6cb1200057",
   "metadata": {},
   "source": [
    "19. Now print out their total! Our first customer now has a receipt for the things they purchased."
   ]
  },
  {
   "cell_type": "code",
   "execution_count": 18,
   "id": "7b7fb69b-67da-433c-9504-4b5fac731084",
   "metadata": {},
   "outputs": [
    {
     "name": "stdout",
     "output_type": "stream",
     "text": [
      "Customer One Items:\n",
      "Lovely Loveseat.Tufted polyester blend on wood. 32 inches high x 40 inches wide x 30 inches dee. Red or white.Luxurious Lamp. Glass and iron. 36 inches tall. Brown with cream shade.\n",
      "Customer One Total:\n",
      "333.09119999999996\n"
     ]
    }
   ],
   "source": [
    "print(\"Customer One Items:\\n\" + customer_one_itemization + \"\\nCustomer One Total:\\n\" + str(Customer_One_Total))"
   ]
  },
  {
   "cell_type": "markdown",
   "id": "dae72b11-641b-41b7-b5a5-4209453b350c",
   "metadata": {},
   "source": [
    "20. Congratulations! We created our catalog and served our first customer. We used our knowledge of strings and numbers to create and update variables. We were able to print out an itemized list and a total cost for our customer. Lovely!"
   ]
  },
  {
   "cell_type": "markdown",
   "id": "000b7112-4ffb-49be-b91d-73ea706992ad",
   "metadata": {},
   "source": [
    "### Expected Output"
   ]
  },
  {
   "cell_type": "markdown",
   "id": "65f201c5-16c1-4493-9ef5-d9dcf8105969",
   "metadata": {},
   "source": [
    "```\n",
    "Customer One Items:\n",
    "Lovely Loveseat. Tufted polyester blend on wood. 32 inches high x 40 inches wide x 30 inches deep. Red or white.Luxurious Lamp. Glass and iron. 36 inches tall. Brown with cream shade.\n",
    "Customer One Total:\n",
    "333.09119999999996\n",
    "```"
   ]
  }
 ],
 "metadata": {
  "kernelspec": {
   "display_name": "Python 3 (ipykernel)",
   "language": "python",
   "name": "python3"
  },
  "language_info": {
   "codemirror_mode": {
    "name": "ipython",
    "version": 3
   },
   "file_extension": ".py",
   "mimetype": "text/x-python",
   "name": "python",
   "nbconvert_exporter": "python",
   "pygments_lexer": "ipython3",
   "version": "3.9.13"
  }
 },
 "nbformat": 4,
 "nbformat_minor": 5
}
