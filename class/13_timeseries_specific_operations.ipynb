{
 "cells": [
  {
   "cell_type": "markdown",
   "id": "409439e8-8808-45ee-b006-7ebc51a8081a",
   "metadata": {},
   "source": [
    "## <strong> 13. 시계열 전용 연산"
   ]
  },
  {
   "cell_type": "markdown",
   "id": "4e54456e-2706-4dd2-9355-f59dc8f74824",
   "metadata": {},
   "source": [
    "필요한 라이브러리: ```yfinance```, ```pandas_datareader```"
   ]
  },
  {
   "cell_type": "code",
   "execution_count": 1,
   "id": "a25d88aa-8c6c-49be-a829-0b5f7a439c4d",
   "metadata": {},
   "outputs": [
    {
     "name": "stdout",
     "output_type": "stream",
     "text": [
      "Collecting yfinance"
     ]
    },
    {
     "name": "stderr",
     "output_type": "stream",
     "text": [
      "ERROR: pip's dependency resolver does not currently take into account all the packages that are installed. This behaviour is the source of the following dependency conflicts.\n",
      "anaconda-project 0.11.1 requires ruamel-yaml, which is not installed.\n",
      "conda-repo-cli 1.0.20 requires clyent==1.2.1, but you have clyent 1.2.2 which is incompatible.\n",
      "conda-repo-cli 1.0.20 requires nbformat==5.4.0, but you have nbformat 5.5.0 which is incompatible.\n",
      "conda-repo-cli 1.0.20 requires requests==2.28.1, but you have requests 2.31.0 which is incompatible.\n"
     ]
    },
    {
     "name": "stdout",
     "output_type": "stream",
     "text": [
      "\n",
      "  Downloading yfinance-0.2.31-py2.py3-none-any.whl (65 kB)\n",
      "     ---------------------------------------- 65.6/65.6 kB 3.5 MB/s eta 0:00:00\n",
      "Collecting pytz>=2022.5\n",
      "  Using cached pytz-2023.3.post1-py2.py3-none-any.whl (502 kB)\n",
      "Collecting frozendict>=2.3.4\n",
      "  Downloading frozendict-2.3.8-cp39-cp39-win_amd64.whl (35 kB)\n",
      "Collecting requests>=2.31\n",
      "  Using cached requests-2.31.0-py3-none-any.whl (62 kB)\n",
      "Requirement already satisfied: pandas>=1.3.0 in c:\\users\\taehu\\anaconda3\\lib\\site-packages (from yfinance) (1.4.4)\n",
      "Requirement already satisfied: beautifulsoup4>=4.11.1 in c:\\users\\taehu\\anaconda3\\lib\\site-packages (from yfinance) (4.11.1)\n",
      "Requirement already satisfied: lxml>=4.9.1 in c:\\users\\taehu\\anaconda3\\lib\\site-packages (from yfinance) (4.9.1)\n",
      "Collecting html5lib>=1.1\n",
      "  Downloading html5lib-1.1-py2.py3-none-any.whl (112 kB)\n",
      "     -------------------------------------- 112.2/112.2 kB 6.8 MB/s eta 0:00:00\n",
      "Requirement already satisfied: numpy>=1.16.5 in c:\\users\\taehu\\anaconda3\\lib\\site-packages (from yfinance) (1.21.5)\n",
      "Requirement already satisfied: appdirs>=1.4.4 in c:\\users\\taehu\\anaconda3\\lib\\site-packages (from yfinance) (1.4.4)\n",
      "Collecting peewee>=3.16.2\n",
      "  Downloading peewee-3.17.0.tar.gz (2.9 MB)\n",
      "     ---------------------------------------- 2.9/2.9 MB 23.5 MB/s eta 0:00:00\n",
      "  Installing build dependencies: started\n",
      "  Installing build dependencies: finished with status 'done'\n",
      "  Getting requirements to build wheel: started\n",
      "  Getting requirements to build wheel: finished with status 'done'\n",
      "  Preparing metadata (pyproject.toml): started\n",
      "  Preparing metadata (pyproject.toml): finished with status 'done'\n",
      "Collecting multitasking>=0.0.7\n",
      "  Downloading multitasking-0.0.11-py3-none-any.whl (8.5 kB)\n",
      "Requirement already satisfied: soupsieve>1.2 in c:\\users\\taehu\\anaconda3\\lib\\site-packages (from beautifulsoup4>=4.11.1->yfinance) (2.3.1)\n",
      "Requirement already satisfied: webencodings in c:\\users\\taehu\\anaconda3\\lib\\site-packages (from html5lib>=1.1->yfinance) (0.5.1)\n",
      "Requirement already satisfied: six>=1.9 in c:\\users\\taehu\\anaconda3\\lib\\site-packages (from html5lib>=1.1->yfinance) (1.16.0)\n",
      "Requirement already satisfied: python-dateutil>=2.8.1 in c:\\users\\taehu\\anaconda3\\lib\\site-packages (from pandas>=1.3.0->yfinance) (2.8.2)\n",
      "Requirement already satisfied: charset-normalizer<4,>=2 in c:\\users\\taehu\\anaconda3\\lib\\site-packages (from requests>=2.31->yfinance) (2.0.4)\n",
      "Requirement already satisfied: urllib3<3,>=1.21.1 in c:\\users\\taehu\\anaconda3\\lib\\site-packages (from requests>=2.31->yfinance) (1.26.11)\n",
      "Requirement already satisfied: idna<4,>=2.5 in c:\\users\\taehu\\anaconda3\\lib\\site-packages (from requests>=2.31->yfinance) (2.10)\n",
      "Requirement already satisfied: certifi>=2017.4.17 in c:\\users\\taehu\\anaconda3\\lib\\site-packages (from requests>=2.31->yfinance) (2022.9.14)\n",
      "Building wheels for collected packages: peewee\n",
      "  Building wheel for peewee (pyproject.toml): started\n",
      "  Building wheel for peewee (pyproject.toml): finished with status 'done'\n",
      "  Created wheel for peewee: filename=peewee-3.17.0-py3-none-any.whl size=135766 sha256=8447f31566e1b0cfd453e22c8d8bcc4209c4f4fd82f7025c3b18e99d1c4423d2\n",
      "  Stored in directory: c:\\users\\taehu\\appdata\\local\\pip\\cache\\wheels\\77\\6b\\dc\\722aee2a5d46a021ab67564c9d3d5536c3bd9577fcdc3a5aeb\n",
      "Successfully built peewee\n",
      "Installing collected packages: pytz, peewee, multitasking, requests, html5lib, frozendict, yfinance\n",
      "  Attempting uninstall: pytz\n",
      "    Found existing installation: pytz 2022.1\n",
      "    Uninstalling pytz-2022.1:\n",
      "      Successfully uninstalled pytz-2022.1\n",
      "  Attempting uninstall: requests\n",
      "    Found existing installation: requests 2.28.1\n",
      "    Uninstalling requests-2.28.1:\n",
      "      Successfully uninstalled requests-2.28.1\n",
      "Successfully installed frozendict-2.3.8 html5lib-1.1 multitasking-0.0.11 peewee-3.17.0 pytz-2023.3.post1 requests-2.31.0 yfinance-0.2.31\n",
      "Collecting pandas_datareader\n",
      "  Downloading pandas_datareader-0.10.0-py3-none-any.whl (109 kB)\n",
      "     -------------------------------------- 109.5/109.5 kB 2.1 MB/s eta 0:00:00\n",
      "Requirement already satisfied: requests>=2.19.0 in c:\\users\\taehu\\anaconda3\\lib\\site-packages (from pandas_datareader) (2.31.0)\n",
      "Requirement already satisfied: lxml in c:\\users\\taehu\\anaconda3\\lib\\site-packages (from pandas_datareader) (4.9.1)\n",
      "Requirement already satisfied: pandas>=0.23 in c:\\users\\taehu\\anaconda3\\lib\\site-packages (from pandas_datareader) (1.4.4)\n",
      "Requirement already satisfied: numpy>=1.18.5 in c:\\users\\taehu\\anaconda3\\lib\\site-packages (from pandas>=0.23->pandas_datareader) (1.21.5)\n",
      "Requirement already satisfied: python-dateutil>=2.8.1 in c:\\users\\taehu\\anaconda3\\lib\\site-packages (from pandas>=0.23->pandas_datareader) (2.8.2)\n",
      "Requirement already satisfied: pytz>=2020.1 in c:\\users\\taehu\\anaconda3\\lib\\site-packages (from pandas>=0.23->pandas_datareader) (2023.3.post1)\n",
      "Requirement already satisfied: idna<4,>=2.5 in c:\\users\\taehu\\anaconda3\\lib\\site-packages (from requests>=2.19.0->pandas_datareader) (2.10)\n",
      "Requirement already satisfied: certifi>=2017.4.17 in c:\\users\\taehu\\anaconda3\\lib\\site-packages (from requests>=2.19.0->pandas_datareader) (2022.9.14)\n",
      "Requirement already satisfied: urllib3<3,>=1.21.1 in c:\\users\\taehu\\anaconda3\\lib\\site-packages (from requests>=2.19.0->pandas_datareader) (1.26.11)\n",
      "Requirement already satisfied: charset-normalizer<4,>=2 in c:\\users\\taehu\\anaconda3\\lib\\site-packages (from requests>=2.19.0->pandas_datareader) (2.0.4)\n",
      "Requirement already satisfied: six>=1.5 in c:\\users\\taehu\\anaconda3\\lib\\site-packages (from python-dateutil>=2.8.1->pandas>=0.23->pandas_datareader) (1.16.0)\n",
      "Installing collected packages: pandas_datareader\n",
      "Successfully installed pandas_datareader-0.10.0\n"
     ]
    }
   ],
   "source": [
    "!pip install yfinance\n",
    "!pip install pandas_datareader"
   ]
  },
  {
   "cell_type": "code",
   "execution_count": 12,
   "id": "680d1585-9262-4cf1-afd8-3f73d4c00195",
   "metadata": {},
   "outputs": [],
   "source": [
    "import pandas as pd\n",
    "from pandas_datareader import data as pdr\n",
    "import yfinance as yf\n",
    "\n",
    "from matplotlib import pyplot as plt"
   ]
  },
  {
   "cell_type": "code",
   "execution_count": 3,
   "id": "4a2946fb-0ee3-4e4e-814f-66a638c251f1",
   "metadata": {},
   "outputs": [
    {
     "data": {
      "text/plain": [
       "<matplotlib.pyplot._IonContext at 0x21865dcdb50>"
      ]
     },
     "execution_count": 3,
     "metadata": {},
     "output_type": "execute_result"
    }
   ],
   "source": [
    "# 시각화 설정 옵션\n",
    "%matplotlib qt5\n",
    "%config InlineBackend.figure_format = 'svg'\n",
    "\n",
    "plt.rcParams['figure.figsize'] = [12, 5]\n",
    "plt.rcParams['font.size'] = 13\n",
    "plt.ion()"
   ]
  },
  {
   "cell_type": "code",
   "execution_count": 4,
   "id": "84e68b10-62ad-40c7-ba78-44df51a44335",
   "metadata": {},
   "outputs": [
    {
     "name": "stdout",
     "output_type": "stream",
     "text": [
      "[*********************100%%**********************]  1 of 1 completed\n"
     ]
    },
    {
     "data": {
      "text/html": [
       "<div>\n",
       "<style scoped>\n",
       "    .dataframe tbody tr th:only-of-type {\n",
       "        vertical-align: middle;\n",
       "    }\n",
       "\n",
       "    .dataframe tbody tr th {\n",
       "        vertical-align: top;\n",
       "    }\n",
       "\n",
       "    .dataframe thead th {\n",
       "        text-align: right;\n",
       "    }\n",
       "</style>\n",
       "<table border=\"1\" class=\"dataframe\">\n",
       "  <thead>\n",
       "    <tr style=\"text-align: right;\">\n",
       "      <th></th>\n",
       "      <th>Open</th>\n",
       "      <th>High</th>\n",
       "      <th>Low</th>\n",
       "      <th>Close</th>\n",
       "      <th>Adj Close</th>\n",
       "      <th>Volume</th>\n",
       "    </tr>\n",
       "    <tr>\n",
       "      <th>Date</th>\n",
       "      <th></th>\n",
       "      <th></th>\n",
       "      <th></th>\n",
       "      <th></th>\n",
       "      <th></th>\n",
       "      <th></th>\n",
       "    </tr>\n",
       "  </thead>\n",
       "  <tbody>\n",
       "    <tr>\n",
       "      <th>2004-08-19</th>\n",
       "      <td>2.490664</td>\n",
       "      <td>2.591785</td>\n",
       "      <td>2.390042</td>\n",
       "      <td>2.499133</td>\n",
       "      <td>2.499133</td>\n",
       "      <td>897427216</td>\n",
       "    </tr>\n",
       "    <tr>\n",
       "      <th>2004-08-20</th>\n",
       "      <td>2.515820</td>\n",
       "      <td>2.716817</td>\n",
       "      <td>2.503118</td>\n",
       "      <td>2.697639</td>\n",
       "      <td>2.697639</td>\n",
       "      <td>458857488</td>\n",
       "    </tr>\n",
       "    <tr>\n",
       "      <th>2004-08-23</th>\n",
       "      <td>2.758411</td>\n",
       "      <td>2.826406</td>\n",
       "      <td>2.716070</td>\n",
       "      <td>2.724787</td>\n",
       "      <td>2.724787</td>\n",
       "      <td>366857939</td>\n",
       "    </tr>\n",
       "    <tr>\n",
       "      <th>2004-08-24</th>\n",
       "      <td>2.770615</td>\n",
       "      <td>2.779581</td>\n",
       "      <td>2.579581</td>\n",
       "      <td>2.611960</td>\n",
       "      <td>2.611960</td>\n",
       "      <td>306396159</td>\n",
       "    </tr>\n",
       "    <tr>\n",
       "      <th>2004-08-25</th>\n",
       "      <td>2.614201</td>\n",
       "      <td>2.689918</td>\n",
       "      <td>2.587302</td>\n",
       "      <td>2.640104</td>\n",
       "      <td>2.640104</td>\n",
       "      <td>184645512</td>\n",
       "    </tr>\n",
       "  </tbody>\n",
       "</table>\n",
       "</div>"
      ],
      "text/plain": [
       "                Open      High       Low     Close  Adj Close     Volume\n",
       "Date                                                                    \n",
       "2004-08-19  2.490664  2.591785  2.390042  2.499133   2.499133  897427216\n",
       "2004-08-20  2.515820  2.716817  2.503118  2.697639   2.697639  458857488\n",
       "2004-08-23  2.758411  2.826406  2.716070  2.724787   2.724787  366857939\n",
       "2004-08-24  2.770615  2.779581  2.579581  2.611960   2.611960  306396159\n",
       "2004-08-25  2.614201  2.689918  2.587302  2.640104   2.640104  184645512"
      ]
     },
     "execution_count": 4,
     "metadata": {},
     "output_type": "execute_result"
    }
   ],
   "source": [
    "# 데이터 로딩\n",
    "yf.pdr_override()\n",
    "goog = pdr.get_data_yahoo('GOOG', start='2004-01-01', end='2022-12-31')\n",
    "goog.head()"
   ]
  },
  {
   "cell_type": "code",
   "execution_count": 5,
   "id": "6f457a51-c696-48a1-aaf2-1f496213b5c4",
   "metadata": {},
   "outputs": [
    {
     "data": {
      "text/plain": [
       "Date\n",
       "2004-08-19     2.499133\n",
       "2004-08-20     2.697639\n",
       "2004-08-23     2.724787\n",
       "2004-08-24     2.611960\n",
       "2004-08-25     2.640104\n",
       "                ...    \n",
       "2022-12-23    89.809998\n",
       "2022-12-27    87.930000\n",
       "2022-12-28    86.459999\n",
       "2022-12-29    88.949997\n",
       "2022-12-30    88.730003\n",
       "Name: Close, Length: 4625, dtype: float64"
      ]
     },
     "execution_count": 5,
     "metadata": {},
     "output_type": "execute_result"
    }
   ],
   "source": [
    "# [+] 종가(Close) 데이터만 사용하기\n",
    "goog = goog['Close']\n",
    "goog"
   ]
  },
  {
   "cell_type": "code",
   "execution_count": 6,
   "id": "f28adccb-f6d6-419e-b41f-2b348a9897de",
   "metadata": {},
   "outputs": [
    {
     "data": {
      "text/plain": [
       "<AxesSubplot:xlabel='Date'>"
      ]
     },
     "execution_count": 6,
     "metadata": {},
     "output_type": "execute_result"
    }
   ],
   "source": [
    "# [+] Lineplot 시각화\n",
    "goog.plot()"
   ]
  },
  {
   "cell_type": "markdown",
   "id": "70d87d05-d657-43d5-9cfa-c1f4147756b1",
   "metadata": {},
   "source": [
    "#### <strong> 리샘플링(Resampling)\n",
    "+ ```resample()```: 빈도를 기준으로 집계 연산\n",
    "+ ```asfreq()```: 빈도 단위 별 데이터 선택"
   ]
  },
  {
   "cell_type": "code",
   "execution_count": 7,
   "id": "78a84683-a52b-48be-91f2-4fe1da94e910",
   "metadata": {},
   "outputs": [
    {
     "data": {
      "text/plain": [
       "Date\n",
       "2004-08-31      2.621729\n",
       "2004-09-30      2.820108\n",
       "2004-10-31      3.816469\n",
       "2004-11-30      4.420811\n",
       "2004-12-31      4.527281\n",
       "                 ...    \n",
       "2022-08-31    117.114783\n",
       "2022-09-30    104.108571\n",
       "2022-10-31     99.462858\n",
       "2022-11-30     94.113334\n",
       "2022-12-31     92.733809\n",
       "Freq: M, Name: Close, Length: 221, dtype: float64"
      ]
     },
     "execution_count": 7,
     "metadata": {},
     "output_type": "execute_result"
    }
   ],
   "source": [
    "# [+] 다운샘플링: resample()\n",
    "goog_downsampled = goog.resample('M').mean()\n",
    "goog_downsampled"
   ]
  },
  {
   "cell_type": "code",
   "execution_count": 8,
   "id": "70a2b3be-d607-485e-af24-a776dc544f59",
   "metadata": {},
   "outputs": [],
   "source": [
    "fig, ax = plt.subplots(2, 1, sharey=True, figsize=(12, 6))\n",
    "goog.plot(label='original', ax=ax[0])\n",
    "ax[0].legend()\n",
    "goog_downsampled.plot(label='downsampled', ax=ax[1])\n",
    "ax[1].legend()\n",
    "plt.tight_layout()"
   ]
  },
  {
   "cell_type": "code",
   "execution_count": 9,
   "id": "92933ed0-dfdd-4096-bad5-97c1bad86fc9",
   "metadata": {},
   "outputs": [
    {
     "name": "stdout",
     "output_type": "stream",
     "text": [
      "Date\n",
      "2004-08-31      2.549693\n",
      "2004-09-30      3.227901\n",
      "2004-10-31           NaN\n",
      "2004-11-30      4.532511\n",
      "2004-12-31      4.801752\n",
      "                 ...    \n",
      "2022-07-31           NaN\n",
      "2022-08-31    109.150002\n",
      "2022-09-30     96.150002\n",
      "2022-10-31     94.660004\n",
      "2022-11-30    101.449997\n",
      "Freq: M, Name: Close, Length: 220, dtype: float64\n"
     ]
    },
    {
     "data": {
      "text/plain": [
       "<AxesSubplot:xlabel='Date'>"
      ]
     },
     "execution_count": 9,
     "metadata": {},
     "output_type": "execute_result"
    }
   ],
   "source": [
    "# [+] 다운샘플링: asfreq()\n",
    "goog_downsampled = goog.asfreq('M')\n",
    "print(goog_downsampled)\n",
    "\n",
    "goog.asfreq('M').plot()"
   ]
  },
  {
   "cell_type": "code",
   "execution_count": 10,
   "id": "f5157a71-bbd8-4cc8-8da8-6bd2d9cd571f",
   "metadata": {},
   "outputs": [
    {
     "name": "stdout",
     "output_type": "stream",
     "text": [
      "Date\n",
      "2004-08-19 00:00:00     2.499133\n",
      "2004-08-19 12:00:00          NaN\n",
      "2004-08-20 00:00:00     2.697639\n",
      "2004-08-20 12:00:00          NaN\n",
      "2004-08-21 00:00:00          NaN\n",
      "                         ...    \n",
      "2022-12-28 00:00:00    86.459999\n",
      "2022-12-28 12:00:00          NaN\n",
      "2022-12-29 00:00:00    88.949997\n",
      "2022-12-29 12:00:00          NaN\n",
      "2022-12-30 00:00:00    88.730003\n",
      "Freq: 12H, Name: Close, Length: 13415, dtype: float64\n"
     ]
    }
   ],
   "source": [
    "# [+] 업샘플링: resample()\n",
    "goog_upsampled = goog.resample('12H').mean()\n",
    "print(goog_upsampled)"
   ]
  },
  {
   "cell_type": "markdown",
   "id": "9baa8ef4-abd6-445b-aae6-c48d38eef907",
   "metadata": {},
   "source": [
    "#### <strong> 시프팅(Shifting)\n",
    "+ ```shift(periods)``` : ```periods``` 값 만큼 시계열 이동"
   ]
  },
  {
   "cell_type": "code",
   "execution_count": 11,
   "id": "38cdd9f0-e5e6-4d55-abe1-d965cf976cac",
   "metadata": {},
   "outputs": [
    {
     "data": {
      "text/plain": [
       "Date\n",
       "2004-08-19          NaN\n",
       "2004-08-20          NaN\n",
       "2004-08-23          NaN\n",
       "2004-08-24          NaN\n",
       "2004-08-25          NaN\n",
       "                ...    \n",
       "2022-12-23    55.181499\n",
       "2022-12-27    51.811501\n",
       "2022-12-28    52.652500\n",
       "2022-12-29    52.111000\n",
       "2022-12-30    52.216999\n",
       "Name: Close, Length: 4625, dtype: float64"
      ]
     },
     "execution_count": 11,
     "metadata": {},
     "output_type": "execute_result"
    }
   ],
   "source": [
    "# [+] 900일 뒤로 시프팅 적용\n",
    "goog_shifted = goog.shift(periods=900)\n",
    "goog_shifted"
   ]
  },
  {
   "cell_type": "code",
   "execution_count": 13,
   "id": "d7b07045-9b55-4038-be1b-b3d1f4aff8dd",
   "metadata": {},
   "outputs": [],
   "source": [
    "fig, ax = plt.subplots(2, 1, sharey=True, figsize=(12, 6))\n",
    "\n",
    "# Legends and annotations\n",
    "local_max = pd.to_datetime('2007-11-05')\n",
    "offset = pd.Timedelta(900, 'D')\n",
    "\n",
    "goog.plot(label='original', ax=ax[0])\n",
    "ax[0].legend()\n",
    "ax[0].get_xticklabels()[2].set(weight='heavy', color='red')\n",
    "ax[0].axvline(local_max, alpha=0.3, color='red')\n",
    "\n",
    "goog_shifted.plot(label='shifted 900 days', ax=ax[1])\n",
    "ax[1].legend()\n",
    "ax[1].get_xticklabels()[2].set(weight='heavy', color='red')\n",
    "ax[1].axvline(local_max + offset, alpha=0.3, color='red')\n",
    "\n",
    "plt.tight_layout()"
   ]
  },
  {
   "cell_type": "code",
   "execution_count": 14,
   "id": "830718c8-39e4-47ce-885c-49154048ede3",
   "metadata": {},
   "outputs": [
    {
     "data": {
      "text/plain": [
       "Date\n",
       "2004-08-19         NaN\n",
       "2004-08-20    0.079430\n",
       "2004-08-23    0.010064\n",
       "2004-08-24   -0.041408\n",
       "2004-08-25    0.010775\n",
       "                ...   \n",
       "2022-12-23    0.017562\n",
       "2022-12-27   -0.020933\n",
       "2022-12-28   -0.016718\n",
       "2022-12-29    0.028799\n",
       "2022-12-30   -0.002473\n",
       "Name: Close, Length: 4625, dtype: float64"
      ]
     },
     "execution_count": 14,
     "metadata": {},
     "output_type": "execute_result"
    }
   ],
   "source": [
    "# shifting 응용: 주가 변화율 계산\n",
    "goog_shifted = goog.shift(periods=1) # [+] 시프팅\n",
    "(goog - goog_shifted) / goog_shifted # [+] 주가 변화율 계산"
   ]
  },
  {
   "cell_type": "code",
   "execution_count": 15,
   "id": "c3094617-5cd4-48af-a6b6-489882111b76",
   "metadata": {},
   "outputs": [
    {
     "name": "stdout",
     "output_type": "stream",
     "text": [
      "Date\n",
      "2004-08-19         NaN\n",
      "2004-08-20    0.198506\n",
      "2004-08-23    0.027148\n",
      "2004-08-24   -0.112827\n",
      "2004-08-25    0.028144\n",
      "                ...   \n",
      "2022-12-23    1.549995\n",
      "2022-12-27   -1.879997\n",
      "2022-12-28   -1.470001\n",
      "2022-12-29    2.489998\n",
      "2022-12-30   -0.219994\n",
      "Name: Close, Length: 4625, dtype: float64\n"
     ]
    },
    {
     "data": {
      "text/plain": [
       "<AxesSubplot:xlabel='Date'>"
      ]
     },
     "execution_count": 15,
     "metadata": {},
     "output_type": "execute_result"
    }
   ],
   "source": [
    "# shifting 응용: 차분 시계열 구하기\n",
    "goog_diff = goog - goog_shifted  # [+] 차분\n",
    "print(goog_diff)\n",
    "\n",
    "goog_diff.plot()"
   ]
  },
  {
   "cell_type": "markdown",
   "id": "a74b7d31-d29b-4db8-837a-cf2468b3f834",
   "metadata": {},
   "source": [
    "#### <strong> 윈도잉(Windowing)"
   ]
  },
  {
   "cell_type": "code",
   "execution_count": 16,
   "id": "f032ee09-fd75-47ec-955b-998d11286f5b",
   "metadata": {},
   "outputs": [
    {
     "name": "stdout",
     "output_type": "stream",
     "text": [
      "Rolling [window=365,center=False,axis=0,method=single]\n"
     ]
    },
    {
     "data": {
      "text/plain": [
       "<AxesSubplot:xlabel='Date'>"
      ]
     },
     "execution_count": 16,
     "metadata": {},
     "output_type": "execute_result"
    }
   ],
   "source": [
    "# [+] 365일 단위 윈도잉\n",
    "goog_rolled = goog.rolling(365)\n",
    "print(goog_rolled)\n",
    "\n",
    "goog_rolled.mean().plot()"
   ]
  },
  {
   "cell_type": "code",
   "execution_count": 17,
   "id": "319099d2-f163-4fee-a7f5-53321821c588",
   "metadata": {},
   "outputs": [],
   "source": [
    "data = pd.DataFrame({'input': goog,\n",
    "                     'one-year rolling_mean': goog_rolled.mean(), # moving average\n",
    "                     'one-year rolling_std': goog_rolled.std()})\n",
    "ax = data.plot(style=['-', '--', ':'])\n",
    "ax.lines[0].set_alpha(0.3)"
   ]
  }
 ],
 "metadata": {
  "kernelspec": {
   "display_name": "Python 3 (ipykernel)",
   "language": "python",
   "name": "python3"
  },
  "language_info": {
   "codemirror_mode": {
    "name": "ipython",
    "version": 3
   },
   "file_extension": ".py",
   "mimetype": "text/x-python",
   "name": "python",
   "nbconvert_exporter": "python",
   "pygments_lexer": "ipython3",
   "version": "3.9.13"
  }
 },
 "nbformat": 4,
 "nbformat_minor": 5
}
